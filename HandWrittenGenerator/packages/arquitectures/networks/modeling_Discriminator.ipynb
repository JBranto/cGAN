{
 "cells": [
  {
   "attachments": {},
   "cell_type": "markdown",
   "metadata": {},
   "source": [
    "## Configuración de las capas del Discriminador: 28px, 64px"
   ]
  },
  {
   "cell_type": "code",
   "execution_count": 1,
   "metadata": {},
   "outputs": [],
   "source": [
    "import os\n",
    "import torch\n",
    "import torch.nn as nn\n",
    "import matplotlib.pyplot as plt\n",
    "from torchvision import transforms"
   ]
  },
  {
   "cell_type": "code",
   "execution_count": 2,
   "metadata": {},
   "outputs": [
    {
     "name": "stdout",
     "output_type": "stream",
     "text": [
      "/workspace/CDCGAN/packages/arquitectures/networks\n",
      "/workspace/CDCGAN\n"
     ]
    }
   ],
   "source": [
    "print(os.getcwd())\n",
    "currentPath = os.getcwd().split('/')\n",
    "\n",
    "indexOf = currentPath.index('CDCGAN')\n",
    "rootPath = '/'.join(currentPath[:indexOf+1])\n",
    "os.chdir(rootPath)\n",
    "root = os.getcwd()\n",
    "\n",
    "print(os.getcwd())"
   ]
  },
  {
   "cell_type": "code",
   "execution_count": 3,
   "metadata": {},
   "outputs": [],
   "source": [
    "from packages.arquitectures.networks.Discriminator import DiscriminatorMannager\n",
    "from packages.dataHandlers.datasetMannager import datasetMannager"
   ]
  },
  {
   "cell_type": "code",
   "execution_count": 4,
   "metadata": {},
   "outputs": [],
   "source": [
    "def _inputDis(in_channels, out_channels, kernel_size, stride, padding):\n",
    "    return nn.Sequential(\n",
    "        nn.Conv2d(\n",
    "            in_channels=in_channels, out_channels=out_channels, \n",
    "            kernel_size=kernel_size, stride=stride, padding=padding, \n",
    "            bias=False),\n",
    "        nn.LeakyReLU(0.2, inplace=True)\n",
    ")\n",
    "\n",
    "def _blockDis(in_channels, out_channels, kernel_size, stride, padding):\n",
    "    return nn.Sequential(\n",
    "        nn.Conv2d(\n",
    "            in_channels=in_channels, out_channels=out_channels, \n",
    "            kernel_size=kernel_size, stride=stride, padding=padding, \n",
    "            bias=False),\n",
    "        nn.BatchNorm2d(out_channels),\n",
    "        nn.LeakyReLU(0.2, inplace=True)\n",
    "    )\n",
    "\n",
    "def _outputDis(in_channels, out_channels, kernel_size, stride, padding):\n",
    "    return nn.Sequential(\n",
    "        nn.Conv2d(\n",
    "            in_channels=in_channels, out_channels=out_channels, \n",
    "            kernel_size=kernel_size, stride=stride, padding=padding, \n",
    "            bias=False), \n",
    "        nn.Sigmoid()\n",
    "    )\n"
   ]
  },
  {
   "cell_type": "code",
   "execution_count": 5,
   "metadata": {},
   "outputs": [
    {
     "data": {
      "image/png": "[encoded data removed]",
      "text/plain": [
       "<Figure size 640x480 with 1 Axes>"
      ]
     },
     "metadata": {},
     "output_type": "display_data"
    },
    {
     "name": "stdout",
     "output_type": "stream",
     "text": [
      "Label: q\n",
      "input = torch.Size([128, 1, 64, 64]) - torch.Size([128, 24, 64, 64])\n",
      "----------------------\n",
      "_l0 = torch.Size([128, 128, 32, 32])\n",
      "_l1 = torch.Size([128, 256, 16, 16])\n",
      "_l2 = torch.Size([128, 512, 8, 8])\n",
      "_l3 = torch.Size([128, 1024, 4, 4])\n",
      "_l4 = torch.Size([128, 1, 1, 1])\n",
      "----------------------\n",
      "output = torch.Size([1, 1, 1])\n"
     ]
    }
   ],
   "source": [
    "class ConditionalDiscriminator64(nn.Module):\n",
    "    def __init__(self, features_d = 64, channels = 1, labels = 10):\n",
    "        super(ConditionalDiscriminator64, self).__init__()\n",
    "        \n",
    "        self.layer_x = _inputDis(channels, features_d, kernel_size=4, stride=2, padding=1)        \n",
    "        self.layer_y = _inputDis(labels, features_d, kernel_size=4, stride=2, padding=1)\t        \n",
    "        \n",
    "        self.layer_1 = _blockDis(features_d*2, features_d*4, kernel_size=3, stride=2, padding=1)  \n",
    "        self.layer_2 = _blockDis(features_d*4, features_d*8, kernel_size=3, stride=2, padding=1)\n",
    "        self.layer_3 = _blockDis(features_d*8, features_d*16, kernel_size=3, stride=2, padding=1)\n",
    "        self.layer_4 = _outputDis(features_d*16, channels, kernel_size=4, stride=1, padding=0)     \n",
    "        \n",
    "\n",
    "    def forward(self, x, y):\n",
    "        print(f\"input = {x.shape} - {y.shape}\")\n",
    "        print(\"----------------------\")\n",
    "\n",
    "        lx, ly = self.layer_x(x), self.layer_y(y)\n",
    "        l0 = torch.cat([lx,ly], dim=1)\n",
    "        print(f\"_l0 = {l0.shape}\") \n",
    "\n",
    "        l1 = self.layer_1(l0)\n",
    "        print(f\"_l1 = {l1.shape}\") \n",
    "        \n",
    "        l2 = self.layer_2(l1)\n",
    "        print(f\"_l2 = {l2.shape}\")\n",
    "\n",
    "        l3 = self.layer_3(l2)\n",
    "        print(f\"_l3 = {l3.shape}\")\n",
    "        \n",
    "        l4 = self.layer_4(l3)\n",
    "        print(f\"_l4 = {l4.shape}\")\n",
    "\n",
    "        print(\"----------------------\")\n",
    "        print(f\"output = {l4.shape[1:]}\")\n",
    "\n",
    "        return l4.view(l4.shape[0], -1)\n",
    "        \n",
    "\n",
    "DATASET_NAME = \"LETTERS\"\n",
    "BATCH_SIZE = 128\n",
    "IMG_CHANNELS = 1\n",
    "IMG_SIZE = 64\n",
    "Z_SIZE = 100\n",
    "\n",
    "transform = transforms.Compose([\n",
    "    transforms.Resize(IMG_SIZE),\n",
    "    transforms.Grayscale(num_output_channels=IMG_CHANNELS),\n",
    "    transforms.ToTensor(),\n",
    "    transforms.Normalize([0.5], [0.5]),\n",
    "])\n",
    "\n",
    "dataHandler_64 = datasetMannager(transform, BATCH_SIZE, DATASET_NAME)\n",
    "data_module_64 = dataHandler_64.getDataModule()\n",
    "# data_module.displaySamples()\n",
    "\n",
    "DATALOADER_64 = data_module_64.getTrainDataLoader()\n",
    "UNIQUE_LABELS = data_module_64.getUniqueLabels()\n",
    "LABELS_COUNT = UNIQUE_LABELS.shape[0]\n",
    "FILL = torch.zeros([LABELS_COUNT, LABELS_COUNT, IMG_SIZE, IMG_SIZE])\n",
    "\n",
    "img,label = next(iter(DATALOADER_64))\n",
    "data_module_64.displayImage(img, label)\n",
    "\n",
    "dis_64 = ConditionalDiscriminator64(IMG_SIZE, 1, LABELS_COUNT)\n",
    "output = dis_64(img, FILL[label])"
   ]
  },
  {
   "cell_type": "code",
   "execution_count": 6,
   "metadata": {},
   "outputs": [
    {
     "data": {
      "image/png": "[encoded data removed]",
      "text/plain": [
       "<Figure size 640x480 with 1 Axes>"
      ]
     },
     "metadata": {},
     "output_type": "display_data"
    },
    {
     "name": "stdout",
     "output_type": "stream",
     "text": [
      "Label: p\n",
      "input = torch.Size([128, 1, 28, 28]) - torch.Size([128, 24, 28, 28])\n",
      "----------------------\n",
      "_lx= torch.Size([128, 28, 14, 14]), ly= torch.Size([128, 28, 14, 14]))\n",
      "_l1 = torch.Size([128, 112, 7, 7])\n",
      "_l2 = torch.Size([128, 224, 3, 3])\n",
      "_l3 = torch.Size([128, 1, 1, 1])\n",
      "----------------------\n",
      "output = torch.Size([128, 1, 1, 1])\n",
      "torch.Size([128, 1])\n"
     ]
    }
   ],
   "source": [
    "class ConditionalDiscriminator28(nn.Module):\n",
    "    def __init__(self, features_d = 64, channels = 1, labels = 10):\n",
    "        super(ConditionalDiscriminator28, self).__init__()\n",
    "        \n",
    "        self.layer_x = _inputDis(channels, features_d, kernel_size=4, stride=2, padding=1)        # input: (1, 28, 28) \t=> \tout: (32, 14, 14)\n",
    "        self.layer_y = _inputDis(labels, features_d, kernel_size=4, stride=2, padding=1)\t        # input: (10, 28, 28) \t=> \tout: (32, 14, 14)\n",
    "        \n",
    "        self.layer_1 = _blockDis(features_d*2, features_d*4, kernel_size=4, stride=2, padding=1)  # input: (64, 14, 14)\t=> \tout: (128, 7, 7) \n",
    "        self.layer_2 = _blockDis(features_d*4, features_d*8, kernel_size=3, stride=2, padding=0)  # input: (128, 7, 7) \t=> \tout: (256, 3, 3)\n",
    "        self.layer_3 = _outputDis(features_d*8, channels, kernel_size=3, stride=1, padding=0)         \n",
    "        \n",
    "    def forward(self, x, y):\n",
    "        print(f\"input = {x.shape} - {y.shape}\")\n",
    "        print(\"----------------------\")\n",
    "\n",
    "        lx, ly = self.layer_x(x), self.layer_y(y)\n",
    "        print(f\"_lx= {lx.shape}, ly= {ly.shape})\")\n",
    "        \n",
    "        l1 = self.layer_1(torch.cat([lx,ly], dim=1)) # size of xy : (batch_size, 64, 14, 14)\n",
    "        print(f\"_l1 = {l1.shape}\") \n",
    "        \n",
    "        l2 = self.layer_2(l1)\n",
    "        print(f\"_l2 = {l2.shape}\")\n",
    "        \n",
    "        l3 = self.layer_3(l2)\n",
    "        print(f\"_l3 = {l3.shape}\")\n",
    "\n",
    "        print(\"----------------------\")\n",
    "        out = l3.view(l3.shape[0], -1)\n",
    "        print(f\"output = {l3.shape}\")\n",
    "\n",
    "        return out\n",
    "        \n",
    "DATASET_NAME = \"LETTERS\"\n",
    "BATCH_SIZE = 128\n",
    "IMG_CHANNELS = 1\n",
    "IMG_SIZE = 28\n",
    "Z_SIZE = 100\n",
    "\n",
    "transform = transforms.Compose([\n",
    "    transforms.Resize(IMG_SIZE),\n",
    "    transforms.Grayscale(num_output_channels=IMG_CHANNELS),\n",
    "    transforms.ToTensor(),\n",
    "    transforms.Normalize([0.5], [0.5]),\n",
    "])\n",
    "\n",
    "dataHandler_28 = datasetMannager(transform, BATCH_SIZE, DATASET_NAME)\n",
    "data_module_28 = dataHandler_28.getDataModule()\n",
    "# data_module.displaySamples()\n",
    "\n",
    "DATALOADER_64 = data_module_28.getTrainDataLoader()\n",
    "UNIQUE_LABELS = data_module_28.getUniqueLabels()\n",
    "LABELS_COUNT = UNIQUE_LABELS.shape[0]\n",
    "FILL = torch.zeros([LABELS_COUNT, LABELS_COUNT, IMG_SIZE, IMG_SIZE])\n",
    "\n",
    "img,label = next(iter(DATALOADER_64))\n",
    "data_module_28.displayImage(img, label)\n",
    "\n",
    "dis_28 = ConditionalDiscriminator28(IMG_SIZE, 1, LABELS_COUNT)\n",
    "output = dis_28(img, FILL[label])\n",
    "print(output.shape)"
   ]
  }
 ],
 "metadata": {
  "kernelspec": {
   "display_name": "Python 3 (ipykernel)",
   "language": "python",
   "name": "python3"
  },
  "language_info": {
   "codemirror_mode": {
    "name": "ipython",
    "version": 3
   },
   "file_extension": ".py",
   "mimetype": "text/x-python",
   "name": "python",
   "nbconvert_exporter": "python",
   "pygments_lexer": "ipython3",
   "version": "3.10.8"
  },
  "orig_nbformat": 4
 },
 "nbformat": 4,
 "nbformat_minor": 2
}
