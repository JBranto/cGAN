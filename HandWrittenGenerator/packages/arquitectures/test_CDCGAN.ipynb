{
 "cells": [
  {
   "cell_type": "code",
   "execution_count": 158,
   "metadata": {},
   "outputs": [],
   "source": [
    "import os\n",
    "import torch\n",
    "from torchvision import transforms"
   ]
  },
  {
   "cell_type": "code",
   "execution_count": 159,
   "metadata": {},
   "outputs": [
    {
     "name": "stdout",
     "output_type": "stream",
     "text": [
      "/workspace/CDCGAN\n",
      "/workspace/CDCGAN\n"
     ]
    }
   ],
   "source": [
    "print(os.getcwd())\n",
    "currentPath = os.getcwd().split('/')\n",
    "\n",
    "indexOf = currentPath.index('workspace')\n",
    "rootPath = '/'.join(currentPath[:indexOf+1])+'/CDCGAN'\n",
    "os.chdir(rootPath)\n",
    "root = os.getcwd()\n",
    "\n",
    "print(root)"
   ]
  },
  {
   "cell_type": "code",
   "execution_count": 160,
   "metadata": {},
   "outputs": [],
   "source": [
    "from packages.dataHandlers.datasetMannager import datasetMannager\n",
    "\n",
    "import packages.arquitectures.CDCGAN as GanMannager\n",
    "import packages.arquitectures.networks as networks\n",
    "\n",
    "# import models._networks.cConvolutional.Generator as genModels\n",
    "# import datahandlers.MNIST as  mn\n",
    "# import datahandlers.LETTERS as ltt"
   ]
  },
  {
   "cell_type": "markdown",
   "metadata": {},
   "source": []
  },
  {
   "cell_type": "code",
   "execution_count": 161,
   "metadata": {},
   "outputs": [],
   "source": [
    "gan = False\n",
    "DATASET_NAME = 'LETTERS'\n",
    "\n",
    "def train():\n",
    "    Z_SIZE = 100\n",
    "    IMG_SIZE = 64\n",
    "    IMG_CHANNELS = 1\n",
    "    BATCH_SIZE = 128\n",
    "\n",
    "    transform = transforms.Compose([\n",
    "        transforms.Resize(IMG_SIZE),\n",
    "        transforms.Grayscale(num_output_channels=IMG_CHANNELS),\n",
    "        transforms.ToTensor(),\n",
    "        transforms.Normalize([0.5], [0.5]),\n",
    "    ])\n",
    "\n",
    "    params = {\n",
    "        'optimizer': 'adam',\n",
    "        'learning_rate': 0.0007969, 'betas_min': 0.4216, 'betas_max': 0.9755,\n",
    "    }\n",
    "\n",
    "    dataMannager = datasetMannager(transform, BATCH_SIZE, DATASET_NAME)\n",
    "    data_module = dataMannager.getDataModule()\n",
    "    DATALOADER = data_module.getTrainDataLoader()\n",
    "    UNIQUE_LABELS = data_module.getUniqueLabels()\n",
    "    LABELS_COUNT = UNIQUE_LABELS.shape[0]\n",
    "\n",
    "    gan = GanMannager.CDCGAN(isDebugMode=False,root=root)\n",
    "    gan.setDataLoader(DATALOADER, DATASET_NAME)\n",
    "    gan.setImageParams(BATCH_SIZE, IMG_CHANNELS, IMG_SIZE, UNIQUE_LABELS, LABELS_COUNT)\n",
    "    gan.setFixedSpace(Z_SIZE, LABELS_COUNT*LABELS_COUNT, LABELS_COUNT)\n",
    "    gan.setupModels(params)\n",
    "\n",
    "    KSTEPS  = 1\n",
    "    NUM_EPOCH = 2000\n",
    "    D_losses, G_losses = [], []\n",
    "    Dx_values, DGz_values = [], []\n",
    "    explorationName = \"_exploration1\"\n",
    "    experimentName = \"_experiment1\"\n",
    "    modelName = '_testModels'\n",
    "    \n",
    "    for epoch in range(NUM_EPOCH):\n",
    "        step = 0\n",
    "        dis_total_loss, dis_real_loss = 0, 0\n",
    "        gen_loss, dis_z_loss = 0, 0\n",
    "        epoch_D_losses, epoch_G_losses = [], []\n",
    "        epoch_Dx, epoch_DGz = [], []\n",
    "\n",
    "        for real_image, real_label in DATALOADER:\n",
    "            dis_total_loss, dis_real_loss = gan.trainStepDis(real_image, real_label)\n",
    "            epoch_D_losses.append(dis_total_loss)\n",
    "            epoch_Dx.append(dis_real_loss)\n",
    "\n",
    "            step += 1\n",
    "            if step % KSTEPS == 0:\n",
    "                dis_z_loss, gen_loss = gan.trainStepGen()\n",
    "                epoch_DGz.append(dis_z_loss)\n",
    "                epoch_G_losses.append(gen_loss)\n",
    "\n",
    "        else:\n",
    "            D_losses.append(sum(epoch_D_losses)/len(epoch_D_losses))\n",
    "            G_losses.append(sum(epoch_G_losses)/len(epoch_G_losses))\n",
    "            Dx_values.append(sum(epoch_Dx)/len(epoch_Dx))\n",
    "            DGz_values.append(sum(epoch_DGz)/len(epoch_DGz))\n",
    "            \n",
    "            print(f\" Epoch: {epoch+1}/{NUM_EPOCH} |\" \n",
    "                + f\" D_loss = {D_losses[-1]:.3f}, G_loss = {G_losses[-1]:.3f} |\"\n",
    "                + f\" D(x) = {Dx_values[-1]:.3f}, D(G(z)) = {DGz_values[-1]:.3f}\")\n",
    "\n",
    "            gan.createSamplesTable(LABELS_COUNT, epoch, NUM_EPOCH, explorationName, experimentName) \n",
    "\n",
    "        if epoch+1== NUM_EPOCH:\n",
    "            gan.saveModel(explorationName, experimentName, modelName)\n",
    "\n",
    "    return gan"
   ]
  },
  {
   "cell_type": "code",
   "execution_count": 162,
   "metadata": {},
   "outputs": [],
   "source": [
    "# trained = train()"
   ]
  },
  {
   "cell_type": "code",
   "execution_count": 163,
   "metadata": {},
   "outputs": [
    {
     "name": "stdout",
     "output_type": "stream",
     "text": [
      "#### Discriminator for 64x64 ####\n",
      "#### Generator for 64x64 ####\n"
     ]
    }
   ],
   "source": [
    "params = {\n",
    "    'optimizer': 'adam',\n",
    "    'learning_rate': 0.0007969, 'betas_min': 0.4216, 'betas_max': 0.9755,\n",
    "}\n",
    "\n",
    "Z_SIZE = 250\n",
    "IMG_SIZE = 64\n",
    "IMG_CHANNELS = 1\n",
    "BATCH_SIZE = 128\n",
    "\n",
    "transform = transforms.Compose([\n",
    "    transforms.Resize(IMG_SIZE),\n",
    "    transforms.Grayscale(num_output_channels=IMG_CHANNELS),\n",
    "    transforms.ToTensor(),\n",
    "    transforms.Normalize([0.5], [0.5]),\n",
    "])\n",
    "\n",
    "dataMannager = datasetMannager(transform, BATCH_SIZE, DATASET_NAME)\n",
    "data_module = dataMannager.getDataModule()\n",
    "DATALOADER = data_module.getTrainDataLoader()\n",
    "UNIQUE_LABELS = data_module.getUniqueLabels()\n",
    "LABELS_COUNT = UNIQUE_LABELS.shape[0]\n",
    "\n",
    "gan = GanMannager.CDCGAN(isDebugMode=False,root=root)\n",
    "gan.setDataLoader(DATALOADER, DATASET_NAME)\n",
    "gan.setImageParams(BATCH_SIZE, IMG_CHANNELS, IMG_SIZE, UNIQUE_LABELS, LABELS_COUNT)\n",
    "gan.setFixedSpace(Z_SIZE, LABELS_COUNT*LABELS_COUNT, LABELS_COUNT)\n",
    "gan.setupModels(params)\n",
    "\n",
    "explorationName = \"_final\"\n",
    "experimentName = \"6ziudbfm\"\n",
    "modelName = 'model_run_6ziudbfm'\n",
    "gan.loadModel(explorationName, experimentName, modelName)"
   ]
  },
  {
   "cell_type": "code",
   "execution_count": 164,
   "metadata": {},
   "outputs": [
    {
     "data": {
      "image/png": "[encoded data removed]",
      "text/plain": [
       "<PIL.Image.Image image mode=RGB size=92x44>"
      ]
     },
     "metadata": {},
     "output_type": "display_data"
    },
    {
     "data": {
      "image/png": "[encoded data removed]",
      "text/plain": [
       "<PIL.Image.Image image mode=RGB size=46x44>"
      ]
     },
     "metadata": {},
     "output_type": "display_data"
    },
    {
     "data": {
      "image/png": "[encoded data removed]",
      "text/plain": [
       "<PIL.Image.Image image mode=RGB size=46x44>"
      ]
     },
     "metadata": {},
     "output_type": "display_data"
    },
    {
     "data": {
      "image/png": "[encoded data removed]",
      "text/plain": [
       "<PIL.Image.Image image mode=RGB size=92x44>"
      ]
     },
     "metadata": {},
     "output_type": "display_data"
    },
    {
     "data": {
      "image/png": "[encoded data removed]",
      "text/plain": [
       "<PIL.Image.Image image mode=RGB size=342x44>"
      ]
     },
     "metadata": {},
     "output_type": "display_data"
    }
   ],
   "source": [
    "import matplotlib.pyplot as plt\n",
    "from PIL import Image\n",
    "import torchvision.transforms as T\n",
    "import numpy as np\n",
    "\n",
    "from matplotlib import cm\n",
    "\n",
    "transform = T.ToPILImage()\n",
    "images = []\n",
    "\n",
    "sentence = 'esta en mi casa'.split(' ')\n",
    "\n",
    "\n",
    "words_img = []\n",
    "max_height = 44\n",
    "\n",
    "for i in range(len(sentence)):\n",
    "    word = sentence[i]\n",
    "    x_offset = 0\n",
    "    word_width = len(word)*23\n",
    "    word_img = Image.new('RGB', (word_width, max_height))\n",
    "\n",
    "    for letter in word:\n",
    "        img, label = gan.generateImage(data_module.getLabelIndex(letter))\n",
    "        img_numpy = img.detach().cpu()[0].permute(0,1,2)#[12:56,22:44]\n",
    "        img_PIL = transform(img.detach().cpu()[0])\n",
    "        img_PIL = img_PIL.crop((22,12,44,56))\n",
    "        word_img.paste(img_PIL, (x_offset,0))\n",
    "        x_offset += img_PIL.size[0]\n",
    "\n",
    "    words_img.append(word_img)\n",
    "\n",
    "    blank_img= transform(torch.zeros((64,64)))\n",
    "    blank_img = blank_img.crop((22,12,44,56))\n",
    "\n",
    "    word_img.show()\n",
    "    if (i< len(sentence) -1): words_img.append(blank_img)\n",
    "\n",
    "\n",
    "\n",
    "final_img = Image.new('RGB', (sum([img.size[0] for img in words_img]), max_height))\n",
    "\n",
    "x_offset = 0\n",
    "for word_img in words_img:\n",
    "    final_img.paste(word_img, (x_offset,0))\n",
    "    x_offset += word_img.size[0]\n",
    "\n",
    "final_img.show()"
   ]
  },
  {
   "cell_type": "code",
   "execution_count": null,
   "metadata": {},
   "outputs": [],
   "source": []
  }
 ],
 "metadata": {
  "kernelspec": {
   "display_name": "Python 3 (ipykernel)",
   "language": "python",
   "name": "python3"
  },
  "language_info": {
   "codemirror_mode": {
    "name": "ipython",
    "version": 3
   },
   "file_extension": ".py",
   "mimetype": "text/x-python",
   "name": "python",
   "nbconvert_exporter": "python",
   "pygments_lexer": "ipython3",
   "version": "3.10.8"
  },
  "orig_nbformat": 4
 },
 "nbformat": 4,
 "nbformat_minor": 2
}
