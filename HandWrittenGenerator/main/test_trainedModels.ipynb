{
 "cells": [
  {
   "cell_type": "code",
   "execution_count": 3,
   "metadata": {},
   "outputs": [
    {
     "name": "stdout",
     "output_type": "stream",
     "text": [
      "/workspace/CDCGAN\n",
      "/workspace/CDCGAN\n"
     ]
    }
   ],
   "source": [
    "import os\n",
    "print(os.getcwd())\n",
    "currentPath = os.getcwd().split('/')\n",
    "\n",
    "indexOf = currentPath.index('workspace')\n",
    "rootPath = '/'.join(currentPath[:indexOf+1])+'/CDCGAN'\n",
    "os.chdir(rootPath)\n",
    "root = os.getcwd()\n",
    "\n",
    "print(root)"
   ]
  },
  {
   "cell_type": "code",
   "execution_count": 4,
   "metadata": {},
   "outputs": [],
   "source": [
    "import torch\n",
    "from PIL import Image\n",
    "import matplotlib.pyplot as plt\n",
    "from torchvision import transforms as T\n",
    "import packages.arquitectures.CDCGAN as GanMannager\n",
    "from packages.dataHandlers.datasetMannager import datasetMannager"
   ]
  },
  {
   "cell_type": "code",
   "execution_count": 5,
   "metadata": {},
   "outputs": [
    {
     "name": "stdout",
     "output_type": "stream",
     "text": [
      "#### Discriminator for 28x28 ####\n",
      "#### Generator for 28x28 ####\n"
     ]
    }
   ],
   "source": [
    "gan = False\n",
    "DATASET_NAME = 'LETTERS'\n",
    "params = {\n",
    "    'optimizer': 'adam',\n",
    "    'learning_rate': 0.0007969, 'betas_min': 0.4216, 'betas_max': 0.9755,\n",
    "}\n",
    "\n",
    "explorationName = \"_final\"\n",
    "# experimentName = \"c0gqop9g\"\n",
    "experimentName = \"7t5v93s7\" \n",
    "# experimentName = \"6ziudbfm\"  # Z_SIZE = 250\n",
    "modelName = 'model_run_'+experimentName\n",
    "\n",
    "Z_SIZE = 100\n",
    "IMG_SIZE = 28\n",
    "IMG_CHANNELS = 1\n",
    "BATCH_SIZE = 128\n",
    "\n",
    "transform = T.Compose([\n",
    "    T.Resize(IMG_SIZE),\n",
    "    T.Grayscale(num_output_channels=IMG_CHANNELS),\n",
    "    T.ToTensor(),\n",
    "    T.Normalize([0.5], [0.5]),\n",
    "])\n",
    "\n",
    "dataMannager = datasetMannager(transform, BATCH_SIZE, DATASET_NAME)\n",
    "data_module = dataMannager.getDataModule()\n",
    "DATALOADER = data_module.getTrainDataLoader()\n",
    "UNIQUE_LABELS = data_module.getUniqueLabels()\n",
    "LABELS_COUNT = UNIQUE_LABELS.shape[0]\n",
    "\n",
    "gan = GanMannager.CDCGAN(isDebugMode=False,root=root)\n",
    "gan.setDataLoader(DATALOADER, DATASET_NAME)\n",
    "gan.setImageParams(BATCH_SIZE, IMG_CHANNELS, IMG_SIZE, UNIQUE_LABELS, LABELS_COUNT)\n",
    "gan.setFixedSpace(Z_SIZE, LABELS_COUNT*LABELS_COUNT, LABELS_COUNT)\n",
    "gan.setupModels(params)"
   ]
  },
  {
   "cell_type": "code",
   "execution_count": 6,
   "metadata": {},
   "outputs": [],
   "source": [
    "gan.loadModel(explorationName, experimentName, modelName)"
   ]
  },
  {
   "cell_type": "code",
   "execution_count": 7,
   "metadata": {},
   "outputs": [],
   "source": [
    "sentence = 'hola mundo'.split(' ')"
   ]
  },
  {
   "cell_type": "code",
   "execution_count": 8,
   "metadata": {},
   "outputs": [],
   "source": [
    "max_height = 44\n",
    "words_img = []\n",
    "transform = T.ToPILImage()\n",
    "\n",
    "for i in range(len(sentence)):\n",
    "    word = sentence[i]\n",
    "    x_offset = 0\n",
    "    word_width = len(word)*22\n",
    "    word_img = Image.new('RGB', (word_width, max_height))\n",
    "\n",
    "    for letter in word:\n",
    "        img, label = gan.generateImage(data_module.getLabelIndex(letter))\n",
    "        img_numpy = img.detach().cpu()[0].permute(0,1,2)#[12:56,22:44]\n",
    "        img_PIL = transform(img.detach().cpu()[0])\n",
    "        img_PIL = img_PIL.crop((22,12,44,56))\n",
    "        word_img.paste(img_PIL, (x_offset,0))\n",
    "        x_offset += img_PIL.size[0]\n",
    "\n",
    "    words_img.append(word_img)\n",
    "\n",
    "    blank_img= transform(torch.zeros((64,64)))\n",
    "    blank_img = blank_img.crop((22,12,44,56))\n",
    "\n",
    "    # word_img.show()\n",
    "    if (i< len(sentence) -1): words_img.append(blank_img)"
   ]
  },
  {
   "cell_type": "code",
   "execution_count": 9,
   "metadata": {},
   "outputs": [
    {
     "data": {
      "image/png": "[encoded data removed]",
      "text/plain": [
       "<PIL.Image.Image image mode=RGB size=220x44>"
      ]
     },
     "metadata": {},
     "output_type": "display_data"
    }
   ],
   "source": [
    "x_offset = 0\n",
    "final_img = Image.new('RGB', (sum([img.size[0] for img in words_img]), max_height))\n",
    "for img in words_img:\n",
    "    final_img.paste(img, (x_offset,0))\n",
    "    x_offset += img.size[0]\n",
    "\n",
    "final_img.show()\n",
    "final_img.save('word_'+experimentName+'.jpg')"
   ]
  }
 ],
 "metadata": {
  "kernelspec": {
   "display_name": "Python 3 (ipykernel)",
   "language": "python",
   "name": "python3"
  },
  "language_info": {
   "codemirror_mode": {
    "name": "ipython",
    "version": 3
   },
   "file_extension": ".py",
   "mimetype": "text/x-python",
   "name": "python",
   "nbconvert_exporter": "python",
   "pygments_lexer": "ipython3",
   "version": "3.10.8"
  },
  "orig_nbformat": 4
 },
 "nbformat": 4,
 "nbformat_minor": 2
}
